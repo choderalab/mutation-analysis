{
 "cells": [
  {
   "cell_type": "markdown",
   "id": "d9fa253a",
   "metadata": {},
   "source": [
    "## Notebook to explore how to customise colours of protein surface representations"
   ]
  },
  {
   "cell_type": "code",
   "execution_count": 13,
   "id": "53e0a33b",
   "metadata": {},
   "outputs": [],
   "source": [
    "import nglview as nv\n",
    "import matplotlib.pyplot as plt\n",
    "import matplotlib as mpl\n",
    "import pandas as pd\n",
    "import numpy as np"
   ]
  },
  {
   "cell_type": "markdown",
   "id": "214ecd77",
   "metadata": {},
   "source": [
    "## Prepare data"
   ]
  },
  {
   "cell_type": "code",
   "execution_count": 2,
   "id": "2ce9846c",
   "metadata": {},
   "outputs": [],
   "source": [
    "scores_df = pd.read_csv(\"../data/fret_1_flynn_et_al.csv\", sep=\"\\t\")\n",
    "scores_df = scores_df[scores_df[\" aa\"] != \"*\"] # exclude functional stops\n",
    "\n",
    "# squash per residue using mean. might have to change this later bc\n",
    "# ceil/floor of arrays is more important in mutations?\n",
    "fn_scores = []\n",
    "for residue_number, data in scores_df.groupby(by=\"Position\"):\n",
    "    fn_score = data[\"functional score\"].mean()\n",
    "    # set to be between 0 and 1.\n",
    "    if fn_score > 1:\n",
    "        fn_score = 1 \n",
    "    elif fn_score < 0:\n",
    "        fn_score = 0\n",
    "    fn_scores.append(fn_score)\n",
    "\n"
   ]
  },
  {
   "cell_type": "code",
   "execution_count": 3,
   "id": "1e4ce38f",
   "metadata": {},
   "outputs": [
    {
     "data": {
      "image/png": "[encoded data removed]",
      "text/plain": [
       "<Figure size 640x480 with 1 Axes>"
      ]
     },
     "metadata": {},
     "output_type": "display_data"
    }
   ],
   "source": [
    "# check distribution.\n",
    "plt.hist(fn_scores, bins=50)\n",
    "plt.ylabel(\"Count\")\n",
    "plt.xlabel(\"Mean functional score - FRET repl 1\")\n",
    "plt.show()"
   ]
  },
  {
   "cell_type": "markdown",
   "id": "8da4cf48",
   "metadata": {},
   "source": [
    "## Show functional scores on complex"
   ]
  },
  {
   "cell_type": "code",
   "execution_count": 26,
   "id": "492c309b",
   "metadata": {},
   "outputs": [],
   "source": [
    "def show_colorbar(gradient_scheme, bins):\n",
    "    fig, ax = plt.subplots(figsize=(6, 1))\n",
    "    fig.subplots_adjust(bottom=0.5)\n",
    "\n",
    "    cmap = mpl.colors.ListedColormap(gradient_scheme)\n",
    "    # cmap.set_over('0.25')\n",
    "    # cmap.set_under('0.75')\n",
    "\n",
    "    bounds = bins\n",
    "    norm = mpl.colors.BoundaryNorm(bounds, cmap.N)\n",
    "    cb2 = mpl.colorbar.ColorbarBase(ax, cmap=cmap,\n",
    "                                    norm=norm,\n",
    "    #                                 boundaries=[0] + bounds + [13],\n",
    "    #                                 extend='both',\n",
    "                                    ticks=bounds,\n",
    "                                    spacing='proportional',\n",
    "                                    orientation='horizontal')\n",
    "    cb2.set_label('Mean fitness score')\n",
    "    plt.show()"
   ]
  },
  {
   "cell_type": "code",
   "execution_count": 4,
   "id": "1a5ca6a9",
   "metadata": {},
   "outputs": [
    {
     "data": {
      "text/plain": [
       "303"
      ]
     },
     "execution_count": 4,
     "metadata": {},
     "output_type": "execute_result"
    }
   ],
   "source": [
    "len(fn_scores) # something wrong here."
   ]
  },
  {
   "cell_type": "code",
   "execution_count": 5,
   "id": "ab315e4f",
   "metadata": {},
   "outputs": [],
   "source": [
    "# make a color registry for NGLview based on functional scores.\n",
    "# first set the gradient hex colors. Made using the amazing https://colordesigner.io/gradient-generator\n",
    "gradient_scheme =  [\n",
    "                \"#fa6e6e\",\n",
    "                \"#f96c88\",\n",
    "                \"#f16fa1\",\n",
    "                \"#e375b7\",\n",
    "                \"#cf7eca\",\n",
    "                \"#b787d9\",\n",
    "                \"#9c90e2\",\n",
    "                \"#7e98e5\",\n",
    "                \"#609ee3\",\n",
    "                \"#44a3dc\",\n",
    "                \"#2fa6d2\",\n",
    "                    ]\n",
    "# now create a nested list in the way that NGLview likes it, i.e. [[\"color_n\", \"idx_n\"], [\"color_n+1\", \"idx_n+1\"]].\n",
    "# numpy can determine which bin each value belongs in.\n",
    "bin_idces = np.digitize(fn_scores, np.linspace(0, 1, 11))\n",
    "bin_idces = [ idc-1 for idc in bin_idces ] # arrays start at 0 tyvm\n",
    "\n",
    "# build the color scheme.\n",
    "color_scheme = []\n",
    "for res_num, idx in enumerate(bin_idces):\n",
    "    color_scheme.append([gradient_scheme[idx], str(res_num)])\n",
    "nv.color.ColormakerRegistry.add_selection_scheme(\n",
    "    \"my_custom_scheme\", color_scheme)"
   ]
  },
  {
   "cell_type": "code",
   "execution_count": 29,
   "id": "ac200b2b",
   "metadata": {},
   "outputs": [
    {
     "data": {
      "application/vnd.jupyter.widget-view+json": {
       "model_id": "29e0ddd4e0d3454798cd040946ad13ea",
       "version_major": 2,
       "version_minor": 0
      },
      "text/plain": [
       "NGLWidget()"
      ]
     },
     "metadata": {},
     "output_type": "display_data"
    }
   ],
   "source": [
    "# load paxlovid Mpro structure for now.\n",
    "view = nv.show_pdbid(\"7VH8\", default_representation=False) \n",
    "\n",
    "# add high-quality surface.\n",
    "view.add_surface(\"protein\", color=\"my_custom_scheme\", surfaceType=\"av\")\n",
    "\n",
    "# add the ligand.\n",
    "view.add_ball_and_stick(\"ligand\")\n",
    "view.center()\n",
    "\n",
    "view"
   ]
  },
  {
   "cell_type": "code",
   "execution_count": 30,
   "id": "1d1ffecd",
   "metadata": {},
   "outputs": [
    {
     "data": {
      "image/png": "[encoded data removed]",
      "text/plain": [
       "<Figure size 600x100 with 1 Axes>"
      ]
     },
     "metadata": {},
     "output_type": "display_data"
    }
   ],
   "source": [
    "show_colorbar(gradient_scheme, np.linspace(0, 1, 11))"
   ]
  },
  {
   "cell_type": "markdown",
   "id": "3db4fd11",
   "metadata": {},
   "source": [
    "looks like there are 3 residues missing from the input data (shown in white surface on complex), safe to ignore for now."
   ]
  }
 ],
 "metadata": {
  "kernelspec": {
   "display_name": "Python 3 (ipykernel)",
   "language": "python",
   "name": "python3"
  },
  "language_info": {
   "codemirror_mode": {
    "name": "ipython",
    "version": 3
   },
   "file_extension": ".py",
   "mimetype": "text/x-python",
   "name": "python",
   "nbconvert_exporter": "python",
   "pygments_lexer": "ipython3",
   "version": "3.10.6"
  }
 },
 "nbformat": 4,
 "nbformat_minor": 5
}
